{
 "cells": [
  {
   "cell_type": "code",
   "execution_count": null,
   "id": "a348a8fd",
   "metadata": {
    "scrolled": true
   },
   "outputs": [
    {
     "name": "stdout",
     "output_type": "stream",
     "text": [
      "Welcome to the Pokedex\n",
      "\n"
     ]
    }
   ],
   "source": [
    "import requests as r\n",
    "import random \n",
    "\n",
    "class Pokemon():\n",
    "    def __init__(self, data):\n",
    "        data = r.get(f'https://pokeapi.co/api/v2/pokemon/{user_choice}')\n",
    "        object_data = data.json()\n",
    "        object_data\n",
    "        #self.data = data\n",
    "        self.name = object_data['forms'][0]['name'].title()\n",
    "        self.weight = object_data['weight']\n",
    "        self.height = object_data['height']\n",
    "        self.ability = \", \".join(list({x['ability']['name'] for x in object_data['abilities']}))\n",
    "        self.type = \", \".join(list({x['type']['name'] for x in object_data['types']}))\n",
    "        \n",
    "\n",
    "def promptForPokemon():\n",
    "    print('If you would like a few suggestions, type SUGGESTION\\n\\n')\n",
    "    user_choice = input('What pokemon would you like to see information on:\\n\\n').lower()\n",
    "    if user_choice == 'suggestion':\n",
    "#         best_pokemon = ['alazakam', 'bulbasaur', 'charmander','drowzee', 'electrike', 'froslass', 'golbat', 'hitmonttop', 'ivysaur', 'jigglypuff', 'kabutops', 'lairon', 'mewtoo', 'noctowl', 'onix', 'pikachu', 'quilava', 'rapidash', 'squirtle', 'toxel', 'unfezant', 'vibrava', 'wartortle', 'xurkitree', 'yamper', 'zebstrika']\n",
    "#         print(\"\\nHere are a few suggestions: \\n\")\n",
    "#         for i in range(5):\n",
    "#             print (random.choice(best_pokemon).title())\n",
    "#         user_choice = input('What pokemon would you like to see information on:\\n\\n').lower()\n",
    "         return user_choice\n",
    "    else:\n",
    "        return user_choice\n",
    "\n",
    "print ('Welcome to the Pokedex\\n')\n",
    "#promptForPokemon()\n",
    "user_choice = input('What pokemon would you like to see information on:\\n\\n').lower()\n",
    "pokemonpick = Pokemon(user_choice)\n",
    "print('{}'.format(pokemonpick.__dict__).title())\n",
    "\n",
    "view_another = input('Would you like to see another?').lower()\n",
    "if view_another == 'yes':\n",
    "#    promptForPokemon()\n",
    "    user_choice = input('What pokemon would you like to see information on? :\\n\\n').lower()\n",
    "    pokemonpick2= Pokemon(user_choice)\n",
    "    print('{}'.format(pokemonpick2.__dict__).title())\n",
    "else:\n",
    "    print('OK')"
   ]
  },
  {
   "cell_type": "code",
   "execution_count": null,
   "id": "2fa7ce09",
   "metadata": {},
   "outputs": [],
   "source": []
  },
  {
   "cell_type": "code",
   "execution_count": null,
   "id": "aa2cba1a",
   "metadata": {},
   "outputs": [],
   "source": []
  }
 ],
 "metadata": {
  "kernelspec": {
   "display_name": "Python 3 (ipykernel)",
   "language": "python",
   "name": "python3"
  },
  "language_info": {
   "codemirror_mode": {
    "name": "ipython",
    "version": 3
   },
   "file_extension": ".py",
   "mimetype": "text/x-python",
   "name": "python",
   "nbconvert_exporter": "python",
   "pygments_lexer": "ipython3",
   "version": "3.9.7"
  }
 },
 "nbformat": 4,
 "nbformat_minor": 5
}
