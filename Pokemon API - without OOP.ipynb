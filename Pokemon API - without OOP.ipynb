{
 "cells": [
  {
   "cell_type": "code",
   "execution_count": 25,
   "id": "59d33dab",
   "metadata": {},
   "outputs": [
    {
     "name": "stdout",
     "output_type": "stream",
     "text": [
      "what pokemon would you like to see information on:\n",
      "\n",
      "ivysaur\n",
      "Type: ['grass', 'poison']\n",
      "Name: Ivysaur\n",
      "Height: 10\n",
      "Weight: 130\n",
      "Abilities: ['overgrow', 'chlorophyll']\n"
     ]
    },
    {
     "data": {
      "text/plain": [
       "(['grass', 'poison'], 'Ivysaur', 10, 130, ['overgrow', 'chlorophyll'])"
      ]
     },
     "execution_count": 25,
     "metadata": {},
     "output_type": "execute_result"
    }
   ],
   "source": [
    "import requests as r\n",
    "\n",
    "\n",
    "user_choice = input('what pokemon would you like to see information on:\\n\\n')\n",
    "data = r.get(f'https://pokeapi.co/api/v2/pokemon/{user_choice}')\n",
    "object_data = data.json()\n",
    "object_data\n",
    "\n",
    "    \n",
    "def pokemon_info():\n",
    "    #type of pokemon\n",
    "    pokemonType = []\n",
    "    for x in object_data['types']:\n",
    "        pokemonType.append(x['type']['name'])\n",
    "    print (f'Type: {pokemonType}')\n",
    "    pokemonName = object_data['forms'][0]['name'].title()\n",
    "    print (f'Name: {pokemonName}')\n",
    "    pokemonHeight = object_data['height']\n",
    "    print (f'Height: {pokemonHeight}')\n",
    "    pokemonWeight = object_data['weight']\n",
    "    print (f'Weight: {pokemonWeight}')\n",
    "    pokemonAbilities = []\n",
    "    for x in object_data['abilities']:\n",
    "        pokemonAbilities.append(x['ability']['name'])\n",
    "    print (f'Abilities: {pokemonAbilities}')\n",
    "    return pokemonType, pokemonName, pokemonHeight, pokemonWeight, pokemonAbilities\n",
    "\n",
    "    pokemon_dictionary={}\n",
    "    #def dictBuild():\n",
    "    for x in pokemonType:\n",
    "        pokemon_dictionary = dict.fromkeys(pokemonType, pokemonName)\n",
    "        pokemon_dictionary[x][pokemonName] = pokemonAbilities\n",
    "        print(pokemon_dictionary)\n",
    "        return pokemon_dictionary\n",
    "\n",
    "\n",
    "\n",
    "\n",
    "pokemon_info()\n"
   ]
  },
  {
   "cell_type": "code",
   "execution_count": null,
   "id": "3f8ca22c",
   "metadata": {},
   "outputs": [],
   "source": []
  }
 ],
 "metadata": {
  "kernelspec": {
   "display_name": "Python 3 (ipykernel)",
   "language": "python",
   "name": "python3"
  },
  "language_info": {
   "codemirror_mode": {
    "name": "ipython",
    "version": 3
   },
   "file_extension": ".py",
   "mimetype": "text/x-python",
   "name": "python",
   "nbconvert_exporter": "python",
   "pygments_lexer": "ipython3",
   "version": "3.9.7"
  }
 },
 "nbformat": 4,
 "nbformat_minor": 5
}
